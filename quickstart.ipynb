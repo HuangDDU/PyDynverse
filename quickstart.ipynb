{
 "cells": [
  {
   "cell_type": "code",
   "execution_count": 1,
   "metadata": {},
   "outputs": [],
   "source": [
    "from pydynverse.wrap import wrap_expression, infer_trajectory, add_dimred\n",
    "from pydynverse.methods import ti_comp1, ti_slingshot\n",
    "from pydynverse.plot import plot_dimred\n",
    "# from pydynverse.dimred import get_data\n",
    "\n",
    "from pydynverse import logger\n",
    "\n",
    "logger.setLevel(\"DEBUG\")"
   ]
  },
  {
   "cell_type": "code",
   "execution_count": 2,
   "metadata": {},
   "outputs": [
    {
     "name": "stderr",
     "output_type": "stream",
     "text": [
      "R[write to console]: 载入需要的程辑包：dynfeature\n",
      "\n",
      "R[write to console]: 载入需要的程辑包：dynguidelines\n",
      "\n",
      "R[write to console]: 载入需要的程辑包：dynmethods\n",
      "\n",
      "R[write to console]: 载入需要的程辑包：dynplot\n",
      "\n",
      "R[write to console]: 载入需要的程辑包：dynwrap\n",
      "\n"
     ]
    },
    {
     "name": "stdout",
     "output_type": "stream",
     "text": [
      "\u001b[2;36m[2024年11月22日 21时25分18秒]\u001b[0m\u001b[2;36m \u001b[0m\u001b[32mDEBUG   \u001b[0m Resolving cell_ids and feature_ids                                          \n",
      "\u001b[2;36m                       \u001b[0m\u001b[2;36m \u001b[0m\u001b[32mDEBUG   \u001b[0m AnnData created: AnnData object with n_obs × n_vars = \u001b[1;36m392\u001b[0m × \u001b[1;36m2000\u001b[0m                  \n",
      "\u001b[2;36m                        \u001b[0m             uns: \u001b[32m'id'\u001b[0m                                                                     \n",
      "\u001b[2;36m                       \u001b[0m\u001b[2;36m \u001b[0m\u001b[32mDEBUG   \u001b[0m Andata counts and expression added                                                \n",
      "\u001b[2;36m                       \u001b[0m\u001b[2;36m \u001b[0m\u001b[34mINFO    \u001b[0m AnnData dataset:                                                                  \n",
      "\u001b[2;36m                        \u001b[0m         AnnData object with n_obs × n_vars = \u001b[1;36m392\u001b[0m × \u001b[1;36m2000\u001b[0m                                   \n",
      "\u001b[2;36m                        \u001b[0m             uns: \u001b[32m'id'\u001b[0m                                                                     \n",
      "\u001b[2;36m                        \u001b[0m             layers: \u001b[32m'counts'\u001b[0m                                                              \n",
      "\u001b[2;36m                       \u001b[0m\u001b[2;36m \u001b[0m\u001b[34mINFO    \u001b[0m Dataset loading finished                                                          \n"
     ]
    }
   ],
   "source": [
    "# 1. 准备数据(wrap)\n",
    "# 运行R脚本获得数据，为R对象\n",
    "import rpy2.robjects as ro\n",
    "r_script = \"\"\"\n",
    "library(dyno)\n",
    "data(\"fibroblast_reprogramming_treutlein\")\n",
    "fibroblast_reprogramming_treutlein\n",
    "\"\"\"\n",
    "fibroblast_reprogramming_treutlein = ro.r(r_script)\n",
    "\n",
    "# 封装数据\n",
    "dataset = wrap_expression(\n",
    "    counts=fibroblast_reprogramming_treutlein.rx2[\"counts\"],\n",
    "    expression=fibroblast_reprogramming_treutlein.rx2[\"expression\"]\n",
    ")\n",
    "logger.info(f\"AnnData dataset:\\n{dataset}\")\n",
    "logger.info(\"Dataset loading finished\")"
   ]
  },
  {
   "cell_type": "code",
   "execution_count": 3,
   "metadata": {},
   "outputs": [
    {
     "name": "stdout",
     "output_type": "stream",
     "text": [
      "\u001b[2;36m                       \u001b[0m\u001b[2;36m \u001b[0m\u001b[32mDEBUG   \u001b[0m Docker \u001b[1;35mimage\u001b[0m\u001b[1m(\u001b[0mdynverse/ti_comp1:v\u001b[1;92m0.9.9.01\u001b[0m\u001b[1m)\u001b[0m loaded                                  \n",
      "\u001b[2;36m                       \u001b[0m\u001b[2;36m \u001b[0m\u001b[32mDEBUG   \u001b[0m Docker \u001b[1;35mimage\u001b[0m\u001b[1m(\u001b[0mdynverse/ti_slingshot:v1.\u001b[1;36m0.3\u001b[0m\u001b[1m)\u001b[0m loaded                                 \n",
      "\u001b[2;36m                       \u001b[0m\u001b[2;36m \u001b[0m\u001b[34mINFO    \u001b[0m Methods \u001b[1m[\u001b[0m\u001b[1m<\u001b[0m\u001b[1;95mImage:\u001b[0m\u001b[39m \u001b[0m\u001b[32m'dynverse/ti_comp1:v0.9.9.01'\u001b[0m\u001b[39m>, <Image: \u001b[0m                         \n",
      "\u001b[2;36m                        \u001b[0m         \u001b[32m'dynverse/ti_slingshot:v1.0.3'\u001b[0m\u001b[1m>\u001b[0m\u001b[1m]\u001b[0m selecting finished                               \n"
     ]
    }
   ],
   "source": [
    "# 2. 选择方法(method)\n",
    "methods_selected = [ti_comp1(), ti_slingshot()]\n",
    "logger.info(f\"Methods {methods_selected} selecting finished\")"
   ]
  },
  {
   "cell_type": "code",
   "execution_count": 8,
   "metadata": {},
   "outputs": [
    {
     "name": "stdout",
     "output_type": "stream",
     "text": [
      "\u001b[2;36m[2024年11月22日 21时26分55秒]\u001b[0m\u001b[2;36m \u001b[0m\u001b[32mDEBUG   \u001b[0m Temp wd: \u001b[35m/tmp/\u001b[0m\u001b[95mtmpk5rq69gg\u001b[0m                                                   \n"
     ]
    },
    {
     "name": "stdout",
     "output_type": "stream",
     "text": [
      "\u001b[2;36m[2024年11月22日 21时26分56秒]\u001b[0m\u001b[2;36m \u001b[0m\u001b[32mDEBUG   \u001b[0m Save json successfully, path: \u001b[35m/tmp/tmpk5rq69gg/\u001b[0m\u001b[95minput.json\u001b[0m                   \n",
      "\u001b[2;36m[2024年11月22日 21时26分57秒]\u001b[0m\u001b[2;36m \u001b[0m\u001b[32mDEBUG   \u001b[0m \u001b[1;35mCompletedProcess\u001b[0m\u001b[1m(\u001b[0m\u001b[33margs\u001b[0m=\u001b[1m[\u001b[0m\u001b[32m'/home/huang/PyCode/scRNA/PyDynverse/RScript/dynverse\u001b[0m\n",
      "\u001b[2;36m                              \u001b[0m         \u001b[32m_docker_io_24_11_21_json2h5.R'\u001b[0m, \u001b[32m'--input_json_filename'\u001b[0m,                    \n",
      "\u001b[2;36m                              \u001b[0m         \u001b[32m'/tmp/tmpk5rq69gg/input.json'\u001b[0m, \u001b[32m'--input_h5_filename'\u001b[0m,                       \n",
      "\u001b[2;36m                              \u001b[0m         \u001b[32m'/tmp/tmpk5rq69gg/input.h5'\u001b[0m\u001b[1m]\u001b[0m, \u001b[33mreturncode\u001b[0m=\u001b[1;36m0\u001b[0m, \u001b[33mstdout\u001b[0m=\u001b[32m'\u001b[0m\u001b[32m[\u001b[0m\u001b[32m1\u001b[0m\u001b[32m]\u001b[0m\u001b[32m \"json2h5 \u001b[0m           \n",
      "\u001b[2;36m                              \u001b[0m         \u001b[32msuccessful!\"\\n'\u001b[0m, \u001b[33mstderr\u001b[0m=\u001b[32m''\u001b[0m\u001b[1m)\u001b[0m                                                 \n",
      "\u001b[2;36m                       \u001b[0m\u001b[2;36m \u001b[0m\u001b[32mDEBUG   \u001b[0m json2h5 successful!                                                               \n",
      "\u001b[2;36m[2024年11月22日 21时26分59秒]\u001b[0m\u001b[2;36m \u001b[0m\u001b[32mDEBUG   \u001b[0m Docker Finish                                                               \n",
      "\u001b[2;36m[2024年11月22日 21时27分00秒]\u001b[0m\u001b[2;36m \u001b[0m\u001b[32mDEBUG   \u001b[0m \u001b[1;35mCompletedProcess\u001b[0m\u001b[1m(\u001b[0m\u001b[33margs\u001b[0m=\u001b[1m[\u001b[0m\u001b[32m'/home/huang/PyCode/scRNA/PyDynverse/RScript/dynverse\u001b[0m\n",
      "\u001b[2;36m                              \u001b[0m         \u001b[32m_docker_io_24_11_21_h52json.R'\u001b[0m, \u001b[32m'--output_h5_filename'\u001b[0m,                     \n",
      "\u001b[2;36m                              \u001b[0m         \u001b[32m'/tmp/tmpk5rq69gg/output.h5'\u001b[0m, \u001b[32m'--output_json_filename'\u001b[0m,                     \n",
      "\u001b[2;36m                              \u001b[0m         \u001b[32m'/tmp/tmpk5rq69gg/output.json'\u001b[0m\u001b[1m]\u001b[0m, \u001b[33mreturncode\u001b[0m=\u001b[1;36m0\u001b[0m, \u001b[33mstdout\u001b[0m=\u001b[32m'\u001b[0m\u001b[32m[\u001b[0m\u001b[32m1\u001b[0m\u001b[32m]\u001b[0m\u001b[32m \"h52json \u001b[0m        \n",
      "\u001b[2;36m                              \u001b[0m         \u001b[32msuccessful!\"\\n'\u001b[0m, \u001b[33mstderr\u001b[0m=\u001b[32m''\u001b[0m\u001b[1m)\u001b[0m                                                 \n",
      "\u001b[2;36m                       \u001b[0m\u001b[2;36m \u001b[0m\u001b[32mDEBUG   \u001b[0m h52json successful!                                                               \n",
      "\u001b[2;36m                       \u001b[0m\u001b[2;36m \u001b[0m\u001b[32mDEBUG   \u001b[0m Save json successfully, path: \u001b[35m/tmp/tmpk5rq69gg/\u001b[0m\u001b[95moutput.json\u001b[0m                        \n",
      "\u001b[2;36m                       \u001b[0m\u001b[2;36m \u001b[0m\u001b[34mINFO    \u001b[0m Methods executing finished, model: id:                                            \n",
      "\u001b[2;36m                        \u001b[0m         \u001b[1m[\u001b[0m\u001b[32m'20241122_132659__data_wrapper__dwDlgODMOy'\u001b[0m\u001b[1m]\u001b[0m, pseudotime: \u001b[1m[\u001b[0m\u001b[1;36m0.6335\u001b[0m, \u001b[1;36m0.5246\u001b[0m,       \n",
      "\u001b[2;36m                        \u001b[0m         \u001b[1;36m0.6889\u001b[0m, \u001b[1;36m0.3881\u001b[0m, \u001b[1;36m0.2367\u001b[0m, \u001b[1;36m0.56\u001b[0m, \u001b[1;36m0.1245\u001b[0m, \u001b[1;36m0.4154\u001b[0m, \u001b[1;36m0.5209\u001b[0m, \u001b[1;36m0.1608\u001b[0m, \u001b[1;36m0.4675\u001b[0m, \u001b[1;36m0.5974\u001b[0m,     \n",
      "\u001b[2;36m                        \u001b[0m         \u001b[1;36m0.4676\u001b[0m, \u001b[1;36m0.6297\u001b[0m, \u001b[1;36m0.2121\u001b[0m, \u001b[1;36m0.5686\u001b[0m, \u001b[1;36m0.4104\u001b[0m, \u001b[1;36m0.5147\u001b[0m, \u001b[1;36m0.3244\u001b[0m, \u001b[1;36m0.5503\u001b[0m, \u001b[1;36m0.5895\u001b[0m, \u001b[1;36m0.1297\u001b[0m,   \n",
      "\u001b[2;36m                        \u001b[0m         \u001b[1;36m0.6563\u001b[0m, \u001b[1;36m0.2845\u001b[0m, \u001b[1;36m0.1834\u001b[0m, \u001b[1;36m0.3256\u001b[0m, \u001b[1;36m0.5642\u001b[0m, \u001b[1;36m0.4616\u001b[0m, \u001b[1;36m0.6121\u001b[0m, \u001b[1;36m0.2219\u001b[0m, \u001b[1;36m0.5569\u001b[0m, \u001b[1;36m0.5455\u001b[0m,   \n",
      "\u001b[2;36m                        \u001b[0m         \u001b[1;36m0.5372\u001b[0m, \u001b[1;36m0.5766\u001b[0m, \u001b[1;36m0.2921\u001b[0m, \u001b[1;36m0.4421\u001b[0m, \u001b[1;36m0.5682\u001b[0m, \u001b[1;36m0.683\u001b[0m, \u001b[1;36m0.6775\u001b[0m, \u001b[1;36m0.25\u001b[0m, \u001b[1;36m0.6077\u001b[0m, \u001b[1;36m0.7068\u001b[0m,      \n",
      "\u001b[2;36m                        \u001b[0m         \u001b[1;36m0.3831\u001b[0m, \u001b[1;36m0.1364\u001b[0m, \u001b[1;36m0.0592\u001b[0m, \u001b[1;36m0.5824\u001b[0m, \u001b[1;36m0.53\u001b[0m, \u001b[1;36m0.1595\u001b[0m, \u001b[1;36m0.5806\u001b[0m, \u001b[1;36m0.2743\u001b[0m, \u001b[1;36m0.6698\u001b[0m, \u001b[1;36m0.5816\u001b[0m,     \n",
      "\u001b[2;36m                        \u001b[0m         \u001b[1;36m0.612\u001b[0m, \u001b[1;36m0.4254\u001b[0m, \u001b[1;36m0.5919\u001b[0m, \u001b[1;36m0.1342\u001b[0m, \u001b[1;36m0.7365\u001b[0m, \u001b[1;36m0.3015\u001b[0m, \u001b[1;36m0.6213\u001b[0m, \u001b[1;36m0.6266\u001b[0m, \u001b[1;36m0.5574\u001b[0m, \u001b[1;36m0.1228\u001b[0m,    \n",
      "\u001b[2;36m                        \u001b[0m         \u001b[1;36m0.528\u001b[0m, \u001b[1;36m0.2959\u001b[0m, \u001b[1;36m0.5598\u001b[0m, \u001b[1;36m0.5761\u001b[0m, \u001b[1;36m0.2723\u001b[0m, \u001b[1;36m0.2614\u001b[0m, \u001b[1;36m0.1268\u001b[0m, \u001b[1;36m0.6272\u001b[0m, \u001b[1;36m0.6285\u001b[0m, \u001b[1;36m0.2804\u001b[0m,    \n",
      "\u001b[2;36m                        \u001b[0m         \u001b[1;36m0.629\u001b[0m, \u001b[1;36m0.3286\u001b[0m, \u001b[1;36m0.572\u001b[0m, \u001b[1;36m0.6155\u001b[0m, \u001b[1;36m0.6534\u001b[0m, \u001b[1;36m0.5536\u001b[0m, \u001b[1;36m0.2516\u001b[0m, \u001b[1;36m0.2202\u001b[0m, \u001b[1;36m0.439\u001b[0m, \u001b[1;36m0.141\u001b[0m,       \n",
      "\u001b[2;36m                        \u001b[0m         \u001b[1;36m0.0213\u001b[0m, \u001b[1;36m0.1155\u001b[0m, \u001b[1;36m0.048\u001b[0m, \u001b[1;36m0.1158\u001b[0m, \u001b[1;36m0.0588\u001b[0m, \u001b[1;36m0.0926\u001b[0m, \u001b[1;36m0.1083\u001b[0m, \u001b[1;36m0.004\u001b[0m, \u001b[1;36m0.0963\u001b[0m, \u001b[1;36m0.0557\u001b[0m,     \n",
      "\u001b[2;36m                        \u001b[0m         \u001b[1;36m0.0439\u001b[0m, \u001b[1;36m0.0992\u001b[0m, \u001b[1;36m0.1624\u001b[0m, \u001b[1;36m0.0187\u001b[0m, \u001b[1;36m0.0689\u001b[0m, \u001b[1;36m0.0345\u001b[0m, \u001b[1;36m0.1193\u001b[0m, \u001b[1;36m0.1774\u001b[0m, \u001b[1;36m0.0356\u001b[0m, \u001b[1;36m0.0718\u001b[0m,   \n",
      "\u001b[2;36m                        \u001b[0m         \u001b[1;36m0.1542\u001b[0m, \u001b[1;36m0.046\u001b[0m, \u001b[1;36m0.0604\u001b[0m, \u001b[1;36m0.0372\u001b[0m, \u001b[1;36m0.0126\u001b[0m, \u001b[1;36m0.0442\u001b[0m, \u001b[1;36m0.1147\u001b[0m, \u001b[1;36m0.0731\u001b[0m, \u001b[1;36m0.2843\u001b[0m, \u001b[1;36m0\u001b[0m, \u001b[1;36m0.0742\u001b[0m, \n",
      "\u001b[2;36m                        \u001b[0m         \u001b[1;36m0.0503\u001b[0m, \u001b[1;36m0.0721\u001b[0m, \u001b[1;36m0.1038\u001b[0m, \u001b[1;36m0.0983\u001b[0m, \u001b[1;36m0.109\u001b[0m, \u001b[1;36m0.0122\u001b[0m, \u001b[1;36m0.0149\u001b[0m, \u001b[1;36m0.0001\u001b[0m, \u001b[1;36m0.0166\u001b[0m, \u001b[1;36m0.0983\u001b[0m,    \n",
      "\u001b[2;36m                        \u001b[0m         \u001b[1;36m0.0345\u001b[0m, \u001b[1;36m0.1602\u001b[0m, \u001b[1;36m0.1483\u001b[0m, \u001b[1;36m0.0533\u001b[0m, \u001b[1;36m0.1306\u001b[0m, \u001b[1;36m0.0824\u001b[0m, \u001b[1;36m0.088\u001b[0m, \u001b[1;36m0.1168\u001b[0m, \u001b[1;36m0.0768\u001b[0m, \u001b[1;36m0.0899\u001b[0m,    \n",
      "\u001b[2;36m                        \u001b[0m         \u001b[1;36m0.1303\u001b[0m, \u001b[1;36m0.0471\u001b[0m, \u001b[1;36m0.0864\u001b[0m, \u001b[1;36m0.1924\u001b[0m, \u001b[1;36m0.056\u001b[0m, \u001b[1;36m0.104\u001b[0m, \u001b[1;36m0.1298\u001b[0m, \u001b[1;36m0.0412\u001b[0m, \u001b[1;36m0.0748\u001b[0m, \u001b[1;36m0.094\u001b[0m,      \n",
      "\u001b[2;36m                        \u001b[0m         \u001b[1;36m0.1112\u001b[0m, \u001b[1;36m0.049\u001b[0m, \u001b[1;36m0.0597\u001b[0m, \u001b[1;36m0.086\u001b[0m, \u001b[1;36m0.0661\u001b[0m, \u001b[1;36m0.0508\u001b[0m, \u001b[1;36m0.0125\u001b[0m, \u001b[1;36m0.1074\u001b[0m, \u001b[1;36m0.0132\u001b[0m, \u001b[1;36m0.0864\u001b[0m,     \n",
      "\u001b[2;36m                        \u001b[0m         \u001b[1;36m0.4999\u001b[0m, \u001b[1;36m0.3238\u001b[0m, \u001b[1;36m0.458\u001b[0m, \u001b[1;36m0.5801\u001b[0m, \u001b[1;36m0.7626\u001b[0m, \u001b[1;36m0.4353\u001b[0m, \u001b[1;36m0.3941\u001b[0m, \u001b[1;36m0.6935\u001b[0m, \u001b[1;36m0.387\u001b[0m, \u001b[1;36m0.3963\u001b[0m,     \n",
      "\u001b[2;36m                        \u001b[0m         \u001b[1;36m0.596\u001b[0m, \u001b[1;36m0.4783\u001b[0m, \u001b[1;36m0.4258\u001b[0m, \u001b[1;36m0.4287\u001b[0m, \u001b[1;36m0.5811\u001b[0m, \u001b[1;36m0.5168\u001b[0m, \u001b[1;36m0.2924\u001b[0m, \u001b[1;36m0.3808\u001b[0m, \u001b[1;36m0.6337\u001b[0m, \u001b[1;36m0.5659\u001b[0m,    \n",
      "\u001b[2;36m                        \u001b[0m         \u001b[1;36m0.423\u001b[0m, \u001b[1;36m0.3712\u001b[0m, \u001b[1;36m0.4842\u001b[0m, \u001b[1;36m0.6796\u001b[0m, \u001b[1;36m0.3228\u001b[0m, \u001b[1;36m0.6881\u001b[0m, \u001b[1;36m0.6178\u001b[0m, \u001b[1;36m0.4649\u001b[0m, \u001b[1;36m0.4016\u001b[0m, \u001b[1;36m0.5384\u001b[0m,    \n",
      "\u001b[2;36m                        \u001b[0m         \u001b[1;36m0.6819\u001b[0m, \u001b[1;36m0.3191\u001b[0m, \u001b[1;36m0.3515\u001b[0m, \u001b[1;36m0.4812\u001b[0m, \u001b[1;36m0.3863\u001b[0m, \u001b[1;36m0.2677\u001b[0m, \u001b[1;36m0.4334\u001b[0m, \u001b[1;36m0.3794\u001b[0m, \u001b[1;36m0.3894\u001b[0m, \u001b[1;36m0.3686\u001b[0m,   \n",
      "\u001b[2;36m                        \u001b[0m         \u001b[1;36m0.7163\u001b[0m, \u001b[1;36m0.4897\u001b[0m, \u001b[1;36m0.4866\u001b[0m, \u001b[1;36m0.6994\u001b[0m, \u001b[1;36m0.4475\u001b[0m, \u001b[1;36m0.7491\u001b[0m, \u001b[1;36m0.4202\u001b[0m, \u001b[1;36m0.4446\u001b[0m, \u001b[1;36m0.55\u001b[0m, \u001b[1;36m0.7366\u001b[0m,     \n",
      "\u001b[2;36m                        \u001b[0m         \u001b[1;36m0.6298\u001b[0m, \u001b[1;36m0.5371\u001b[0m, \u001b[1;36m0.6581\u001b[0m, \u001b[1;36m0.5255\u001b[0m, \u001b[1;36m0.6679\u001b[0m, \u001b[1;36m0.4739\u001b[0m, \u001b[1;36m0.4112\u001b[0m, \u001b[1;36m0.7156\u001b[0m, \u001b[1;36m0.0412\u001b[0m, \u001b[1;36m0.5077\u001b[0m,   \n",
      "\u001b[2;36m                        \u001b[0m         \u001b[1;36m0.437\u001b[0m, \u001b[1;36m0.5536\u001b[0m, \u001b[1;36m0.5492\u001b[0m, \u001b[1;36m0.444\u001b[0m, \u001b[1;36m0.5422\u001b[0m, \u001b[1;36m0.5921\u001b[0m, \u001b[1;36m0.5956\u001b[0m, \u001b[1;36m0.8684\u001b[0m, \u001b[1;36m0.5186\u001b[0m, \u001b[1;36m0.5201\u001b[0m,     \n",
      "\u001b[2;36m                        \u001b[0m         \u001b[1;36m0.5527\u001b[0m, \u001b[1;36m0.5953\u001b[0m, \u001b[1;36m0.6823\u001b[0m, \u001b[1;36m0.5951\u001b[0m, \u001b[1;36m0.7523\u001b[0m, \u001b[1;36m0.5239\u001b[0m, \u001b[1;36m0.591\u001b[0m, \u001b[1;36m0.5452\u001b[0m, \u001b[1;36m0.5798\u001b[0m, \u001b[1;36m0.5606\u001b[0m,    \n",
      "\u001b[2;36m                        \u001b[0m         \u001b[1;36m0.4538\u001b[0m, \u001b[1;36m0.561\u001b[0m, \u001b[1;36m0.6137\u001b[0m, \u001b[1;36m0.571\u001b[0m, \u001b[1;36m0.7107\u001b[0m, \u001b[1;36m0.54\u001b[0m, \u001b[1;36m0.4927\u001b[0m, \u001b[1;36m0.4687\u001b[0m, \u001b[1;36m0.588\u001b[0m, \u001b[1;36m0.6313\u001b[0m, \u001b[1;36m0.6169\u001b[0m,\n",
      "\u001b[2;36m                        \u001b[0m         \u001b[1;36m0.6124\u001b[0m, \u001b[1;36m0.7296\u001b[0m, \u001b[1;36m0.7138\u001b[0m, \u001b[1;36m0.438\u001b[0m, \u001b[1;36m0.7614\u001b[0m, \u001b[1;36m0.5271\u001b[0m, \u001b[1;36m0.784\u001b[0m, \u001b[1;36m0.5196\u001b[0m, \u001b[1;36m0.5399\u001b[0m, \u001b[1;36m0.5389\u001b[0m,     \n",
      "\u001b[2;36m                        \u001b[0m         \u001b[1;36m0.8069\u001b[0m, \u001b[1;36m0.4791\u001b[0m, \u001b[1;36m0.5376\u001b[0m, \u001b[1;36m0.7618\u001b[0m, \u001b[1;36m0.4688\u001b[0m, \u001b[1;36m0.6795\u001b[0m, \u001b[1;36m0.6026\u001b[0m, \u001b[1;36m0.6817\u001b[0m, \u001b[1;36m0.6631\u001b[0m, \u001b[1;36m0.6752\u001b[0m,   \n",
      "\u001b[2;36m                        \u001b[0m         \u001b[1;36m0.4268\u001b[0m, \u001b[1;36m0.8247\u001b[0m, \u001b[1;36m0.495\u001b[0m, \u001b[1;36m0.9117\u001b[0m, \u001b[1;36m0.5665\u001b[0m, \u001b[1;36m0.536\u001b[0m, \u001b[1;36m0.9383\u001b[0m, \u001b[1;36m0.6036\u001b[0m, \u001b[1;36m0.7202\u001b[0m, \u001b[1;36m0.3962\u001b[0m,     \n",
      "\u001b[2;36m                        \u001b[0m         \u001b[1;36m0.6663\u001b[0m, \u001b[1;36m0.6002\u001b[0m, \u001b[1;36m0.6161\u001b[0m, \u001b[1;36m0.6568\u001b[0m, \u001b[1;36m0.5334\u001b[0m, \u001b[1;36m0.8097\u001b[0m, \u001b[1;36m0.6251\u001b[0m, \u001b[1;36m0.7653\u001b[0m, \u001b[1;36m0.563\u001b[0m, \u001b[1;36m0.9152\u001b[0m,    \n",
      "\u001b[2;36m                        \u001b[0m         \u001b[1;36m0.4797\u001b[0m, \u001b[1;36m0.833\u001b[0m, \u001b[1;36m0.3547\u001b[0m, \u001b[1;36m0.5483\u001b[0m, \u001b[1;36m0.7786\u001b[0m, \u001b[1;36m0.5552\u001b[0m, \u001b[1;36m0.811\u001b[0m, \u001b[1;36m0.5502\u001b[0m, \u001b[1;36m0.7627\u001b[0m, \u001b[1;36m0.4971\u001b[0m,     \n",
      "\u001b[2;36m                        \u001b[0m         \u001b[1;36m0.5706\u001b[0m, \u001b[1;36m0.5484\u001b[0m, \u001b[1;36m0.7405\u001b[0m, \u001b[1;36m0.3955\u001b[0m, \u001b[1;36m0.6642\u001b[0m, \u001b[1;36m0.6715\u001b[0m, \u001b[1;36m0.3226\u001b[0m, \u001b[1;36m0.7313\u001b[0m, \u001b[1;36m0.8958\u001b[0m, \u001b[1;36m0.9032\u001b[0m,   \n",
      "\u001b[2;36m                        \u001b[0m         \u001b[1;36m0.7933\u001b[0m, \u001b[1;36m0.8408\u001b[0m, \u001b[1;36m0.6867\u001b[0m, \u001b[1;36m0.3678\u001b[0m, \u001b[1;36m0.7141\u001b[0m, \u001b[1;36m0.5022\u001b[0m, \u001b[1;36m0.6044\u001b[0m, \u001b[1;36m0.4651\u001b[0m, \u001b[1;36m0.8597\u001b[0m, \u001b[1;36m0.3972\u001b[0m,   \n",
      "\u001b[2;36m                        \u001b[0m         \u001b[1;36m0.7637\u001b[0m, \u001b[1;36m0.5981\u001b[0m, \u001b[1;36m0.4407\u001b[0m, \u001b[1;36m0.7464\u001b[0m, \u001b[1;36m0.5059\u001b[0m, \u001b[1;36m0.7957\u001b[0m, \u001b[1;36m0.318\u001b[0m, \u001b[1;36m0.6494\u001b[0m, \u001b[1;36m0.5999\u001b[0m, \u001b[1;36m0.7599\u001b[0m,    \n",
      "\u001b[2;36m                        \u001b[0m         \u001b[1;36m0.6676\u001b[0m, \u001b[1;36m0.5141\u001b[0m, \u001b[1;36m0.742\u001b[0m, \u001b[1;36m0.6536\u001b[0m, \u001b[1;36m0.9352\u001b[0m, \u001b[1;36m0.3495\u001b[0m, \u001b[1;36m0.7898\u001b[0m, \u001b[1;36m0.6272\u001b[0m, \u001b[1;36m1\u001b[0m, \u001b[1;36m0.3742\u001b[0m, \u001b[1;36m0.9239\u001b[0m, \n",
      "\u001b[2;36m                        \u001b[0m         \u001b[1;36m0.4594\u001b[0m, \u001b[1;36m0.8527\u001b[0m, \u001b[1;36m0.4008\u001b[0m, \u001b[1;36m0.8216\u001b[0m, \u001b[1;36m0.6406\u001b[0m, \u001b[1;36m0.8423\u001b[0m, \u001b[1;36m0.6492\u001b[0m, \u001b[1;36m0.8355\u001b[0m, \u001b[1;36m0.6\u001b[0m, \u001b[1;36m0.7111\u001b[0m,      \n",
      "\u001b[2;36m                        \u001b[0m         \u001b[1;36m0.2627\u001b[0m, \u001b[1;36m0.4344\u001b[0m, \u001b[1;36m0.4286\u001b[0m, \u001b[1;36m0.3664\u001b[0m, \u001b[1;36m0.7352\u001b[0m, \u001b[1;36m0.5193\u001b[0m, \u001b[1;36m0.8184\u001b[0m, \u001b[1;36m0.5389\u001b[0m, \u001b[1;36m0.5014\u001b[0m, \u001b[1;36m0.7411\u001b[0m,   \n",
      "\u001b[2;36m                        \u001b[0m         \u001b[1;36m0.6149\u001b[0m, \u001b[1;36m0.7211\u001b[0m, \u001b[1;36m0.5638\u001b[0m, \u001b[1;36m0.8169\u001b[0m, \u001b[1;36m0.7722\u001b[0m, \u001b[1;36m0.5002\u001b[0m, \u001b[1;36m0.7224\u001b[0m, \u001b[1;36m0.7009\u001b[0m, \u001b[1;36m0.7117\u001b[0m, \u001b[1;36m0.6578\u001b[0m,   \n",
      "\u001b[2;36m                        \u001b[0m         \u001b[1;36m0.7954\u001b[0m, \u001b[1;36m0.747\u001b[0m, \u001b[1;36m0.6161\u001b[0m, \u001b[1;36m0.8175\u001b[0m, \u001b[1;36m0.7674\u001b[0m, \u001b[1;36m0.87\u001b[0m, \u001b[1;36m0.8464\u001b[0m, \u001b[1;36m0.6162\u001b[0m, \u001b[1;36m0.7725\u001b[0m, \u001b[1;36m0.7874\u001b[0m,      \n",
      "\u001b[2;36m                        \u001b[0m         \u001b[1;36m0.6979\u001b[0m, \u001b[1;36m0.7206\u001b[0m, \u001b[1;36m0.8191\u001b[0m, \u001b[1;36m0.9097\u001b[0m, \u001b[1;36m0.8042\u001b[0m, \u001b[1;36m0.894\u001b[0m, \u001b[1;36m0.8803\u001b[0m, \u001b[1;36m0.7996\u001b[0m, \u001b[1;36m0.7512\u001b[0m, \u001b[1;36m0.7408\u001b[0m,    \n",
      "\u001b[2;36m                        \u001b[0m         \u001b[1;36m0.8128\u001b[0m, \u001b[1;36m0.8038\u001b[0m, \u001b[1;36m0.8047\u001b[0m, \u001b[1;36m0.8703\u001b[0m, \u001b[1;36m0.7757\u001b[0m, \u001b[1;36m0.8086\u001b[0m, \u001b[1;36m0.6217\u001b[0m\u001b[1m]\u001b[0m                           \n"
     ]
    }
   ],
   "source": [
    "# 3. 运行方法(wrap)\n",
    "model = infer_trajectory(dataset, methods_selected[0])\n",
    "logger.info(f\"Methods executing finished, model: {model}\")"
   ]
  },
  {
   "cell_type": "code",
   "execution_count": 6,
   "metadata": {},
   "outputs": [
    {
     "name": "stdout",
     "output_type": "stream",
     "text": [
      "\u001b[2;36m[2024年11月22日 21时25分41秒]\u001b[0m\u001b[2;36m \u001b[0m\u001b[34mINFO    \u001b[0m Result plotting finished                                                    \n"
     ]
    }
   ],
   "source": [
    "# 4. 绘制轨迹(dimred+plot)\n",
    "model = add_dimred(dataset)# 提取轨迹\n",
    "plot_dimred()\n",
    "logger.info(\"Result plotting finished\")\n"
   ]
  }
 ],
 "metadata": {
  "kernelspec": {
   "display_name": "pydynverse",
   "language": "python",
   "name": "python3"
  },
  "language_info": {
   "codemirror_mode": {
    "name": "ipython",
    "version": 3
   },
   "file_extension": ".py",
   "mimetype": "text/x-python",
   "name": "python",
   "nbconvert_exporter": "python",
   "pygments_lexer": "ipython3",
   "version": "3.10.15"
  }
 },
 "nbformat": 4,
 "nbformat_minor": 2
}
