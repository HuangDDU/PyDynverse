{
 "cells": [
  {
   "cell_type": "code",
   "execution_count": 1,
   "metadata": {},
   "outputs": [],
   "source": [
    "from pydynverse.wrap import wrap_expression, infer_trajectory, add_dimred\n",
    "from pydynverse.methods import ti_comp1, ti_slingshot\n",
    "from pydynverse.plot import plot_dimred\n",
    "# from pydynverse.dimred import get_data\n",
    "\n",
    "from pydynverse import logger\n",
    "\n",
    "logger.setLevel(\"DEBUG\")"
   ]
  },
  {
   "cell_type": "code",
   "execution_count": null,
   "metadata": {},
   "outputs": [
    {
     "name": "stderr",
     "output_type": "stream",
     "text": [
      "R[write to console]: 载入需要的程辑包：dynfeature\n",
      "\n",
      "R[write to console]: 载入需要的程辑包：dynguidelines\n",
      "\n",
      "R[write to console]: 载入需要的程辑包：dynmethods\n",
      "\n",
      "R[write to console]: 载入需要的程辑包：dynplot\n",
      "\n",
      "R[write to console]: 载入需要的程辑包：dynwrap\n",
      "\n"
     ]
    },
    {
     "name": "stdout",
     "output_type": "stream",
     "text": [
      "\u001b[2;36m[2024年11月18日 21时25分46秒]\u001b[0m\u001b[2;36m \u001b[0m\u001b[32mDEBUG   \u001b[0m Resolving cell_ids and feature_ids                                          \n",
      "\u001b[2;36m                       \u001b[0m\u001b[2;36m \u001b[0m\u001b[32mDEBUG   \u001b[0m AnnData created: AnnData object with n_obs × n_vars = \u001b[1;36m392\u001b[0m × \u001b[1;36m2000\u001b[0m                  \n",
      "\u001b[2;36m                        \u001b[0m             uns: \u001b[32m'id'\u001b[0m                                                                     \n",
      "\u001b[2;36m                       \u001b[0m\u001b[2;36m \u001b[0m\u001b[32mDEBUG   \u001b[0m Andata counts and expression added                                                \n",
      "\u001b[2;36m                       \u001b[0m\u001b[2;36m \u001b[0m\u001b[34mINFO    \u001b[0m AnnData dataset:                                                                  \n",
      "\u001b[2;36m                        \u001b[0m         AnnData object with n_obs × n_vars = \u001b[1;36m392\u001b[0m × \u001b[1;36m2000\u001b[0m                                   \n",
      "\u001b[2;36m                        \u001b[0m             uns: \u001b[32m'id'\u001b[0m                                                                     \n",
      "\u001b[2;36m                        \u001b[0m             layers: \u001b[32m'counts'\u001b[0m                                                              \n",
      "\u001b[2;36m                       \u001b[0m\u001b[2;36m \u001b[0m\u001b[34mINFO    \u001b[0m Dataset loading finished                                                          \n"
     ]
    }
   ],
   "source": [
    "# 1. 准备数据(wrap)\n",
    "# 运行R脚本获得数据，为R对象\n",
    "import rpy2.robjects as ro\n",
    "r_script = \"\"\"\n",
    "library(dyno)\n",
    "data(\"fibroblast_reprogramming_treutlein\")\n",
    "fibroblast_reprogramming_treutlein\n",
    "\"\"\"\n",
    "fibroblast_reprogramming_treutlein = ro.r(r_script)\n",
    "\n",
    "# 封装数据\n",
    "dataset = wrap_expression(\n",
    "    counts=fibroblast_reprogramming_treutlein.rx2[\"counts\"],\n",
    "    expression=fibroblast_reprogramming_treutlein.rx2[\"expression\"]\n",
    ")\n",
    "logger.info(f\"AnnData dataset:\\n{dataset}\")\n",
    "logger.info(\"Dataset loading finished\")"
   ]
  },
  {
   "cell_type": "code",
   "execution_count": 8,
   "metadata": {},
   "outputs": [
    {
     "name": "stdout",
     "output_type": "stream",
     "text": [
      "\u001b[2;36m[2024年11月18日 21时27分22秒]\u001b[0m\u001b[2;36m \u001b[0m\u001b[32mDEBUG   \u001b[0m Docker \u001b[1;35mimage\u001b[0m\u001b[1m(\u001b[0mdynverse/ti_comp1:v\u001b[1;92m0.9.9.01\u001b[0m\u001b[1m)\u001b[0m loaded                            \n",
      "\u001b[2;36m                       \u001b[0m\u001b[2;36m \u001b[0m\u001b[32mDEBUG   \u001b[0m Docker \u001b[1;35mimage\u001b[0m\u001b[1m(\u001b[0mdynverse/ti_slingshot:v1.\u001b[1;36m0.3\u001b[0m\u001b[1m)\u001b[0m loaded                                 \n",
      "\u001b[2;36m                       \u001b[0m\u001b[2;36m \u001b[0m\u001b[34mINFO    \u001b[0m Methods \u001b[1m[\u001b[0m\u001b[1m<\u001b[0m\u001b[1;95mImage:\u001b[0m\u001b[39m \u001b[0m\u001b[32m'dynverse/ti_comp1:v0.9.9.01'\u001b[0m\u001b[39m>, <Image: \u001b[0m                         \n",
      "\u001b[2;36m                        \u001b[0m         \u001b[32m'dynverse/ti_slingshot:v1.0.3'\u001b[0m\u001b[1m>\u001b[0m\u001b[1m]\u001b[0m selecting finished                               \n"
     ]
    }
   ],
   "source": [
    "# 2. 选择方法(method)\n",
    "methods_selected = [ti_comp1(), ti_slingshot()]\n",
    "logger.info(f\"Methods {methods_selected} selecting finished\")"
   ]
  },
  {
   "cell_type": "code",
   "execution_count": 9,
   "metadata": {},
   "outputs": [
    {
     "name": "stdout",
     "output_type": "stream",
     "text": [
      "\u001b[2;36m[2024年11月18日 21时27分23秒]\u001b[0m\u001b[2;36m \u001b[0m\u001b[34mINFO    \u001b[0m Methods executing finished                                                  \n"
     ]
    }
   ],
   "source": [
    "# 3. 运行方法(wrap)\n",
    "model = infer_trajectory(dataset, methods_selected[0])\n",
    "logger.info(\"Methods executing finished\")"
   ]
  },
  {
   "cell_type": "code",
   "execution_count": 6,
   "metadata": {},
   "outputs": [
    {
     "name": "stdout",
     "output_type": "stream",
     "text": [
      "\u001b[2;36m                       \u001b[0m\u001b[2;36m \u001b[0m\u001b[34mINFO    \u001b[0m Result plotting finished                                                          \n"
     ]
    }
   ],
   "source": [
    "# 4. 绘制轨迹(dimred+plot)\n",
    "model = add_dimred(dataset)# 提取轨迹\n",
    "plot_dimred()\n",
    "logger.info(\"Result plotting finished\")\n"
   ]
  }
 ],
 "metadata": {
  "kernelspec": {
   "display_name": "pydynverse",
   "language": "python",
   "name": "python3"
  },
  "language_info": {
   "codemirror_mode": {
    "name": "ipython",
    "version": 3
   },
   "file_extension": ".py",
   "mimetype": "text/x-python",
   "name": "python",
   "nbconvert_exporter": "python",
   "pygments_lexer": "ipython3",
   "version": "3.10.15"
  }
 },
 "nbformat": 4,
 "nbformat_minor": 2
}
