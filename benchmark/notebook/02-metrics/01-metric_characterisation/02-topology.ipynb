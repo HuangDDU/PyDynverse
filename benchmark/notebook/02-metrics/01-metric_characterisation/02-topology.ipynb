{
 "cells": [
  {
   "cell_type": "code",
   "execution_count": 1,
   "metadata": {},
   "outputs": [
    {
     "name": "stdout",
     "output_type": "stream",
     "text": [
      "\n",
      "  _____       _____                                     \n",
      " |  __ \\     |  __ \\                                    \n",
      " | |__) |   _| |  | |_   _ _ ____   _____ _ __ ___  ___ \n",
      " |  ___/ | | | |  | | | | | '_ \\ \\ / / _ \\ '__/ __|/ _ \\\n",
      " | |   | |_| | |__| | |_| | | | \\ V /  __/ |  \\__ \\  __/\n",
      " |_|    \\__, |_____/ \\__, |_| |_|\\_/ \\___|_|  |___/\\___|\n",
      "         __/ |        __/ |                             \n",
      "        |___/        |___/         \n",
      "\n"
     ]
    }
   ],
   "source": [
    "import pydynverse as pdv"
   ]
  },
  {
   "cell_type": "code",
   "execution_count": 2,
   "metadata": {},
   "outputs": [],
   "source": [
    "dataset_design = pdv.benchmark.topologies_with_same_n_milestones\n",
    "# TODO: pdv.toy.generate_trajectory依据milestone_network生成数据后评估"
   ]
  }
 ],
 "metadata": {
  "kernelspec": {
   "display_name": "pydynverse",
   "language": "python",
   "name": "python3"
  },
  "language_info": {
   "codemirror_mode": {
    "name": "ipython",
    "version": 3
   },
   "file_extension": ".py",
   "mimetype": "text/x-python",
   "name": "python",
   "nbconvert_exporter": "python",
   "pygments_lexer": "ipython3",
   "version": "3.10.15"
  }
 },
 "nbformat": 4,
 "nbformat_minor": 2
}
